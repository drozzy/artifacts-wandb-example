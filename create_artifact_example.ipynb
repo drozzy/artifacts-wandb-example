{
 "cells": [
  {
   "cell_type": "markdown",
   "metadata": {},
   "source": [
    "## Create Artifact"
   ]
  },
  {
   "cell_type": "code",
   "execution_count": null,
   "metadata": {},
   "outputs": [],
   "source": [
    "!ls -lh data"
   ]
  },
  {
   "cell_type": "code",
   "execution_count": null,
   "metadata": {},
   "outputs": [],
   "source": [
    "import wandb\n",
    "\n",
    "run = wandb.init(project='artifacts-wandb-example-project', job_type='data', entity='drozzy')\n",
    "artifact = wandb.Artifact(type='dataset')\n",
    "artifact.add_dir('data')\n",
    "\n",
    "run.log_artifact(artifact, 'project_data')"
   ]
  },
  {
   "cell_type": "markdown",
   "metadata": {},
   "source": [
    "## Use Artifact"
   ]
  },
  {
   "cell_type": "code",
   "execution_count": null,
   "metadata": {},
   "outputs": [],
   "source": [
    "import wandb\n",
    "run = wandb.init(project='artifacts-wandb-example-project', job_type='data', entity='drozzy')\n",
    "\n",
    "artifact = run.use_artifact(name=f'project_data:latest', type='dataset')\n",
    "\n",
    "\n",
    "artifact_dir = artifact.download()\n",
    "print(f'Downloaded to: {artifact_dir}')\n",
    "\n"
   ]
  },
  {
   "cell_type": "code",
   "execution_count": null,
   "metadata": {},
   "outputs": [],
   "source": [
    "!ls {artifact_dir}"
   ]
  },
  {
   "cell_type": "code",
   "execution_count": null,
   "metadata": {},
   "outputs": [],
   "source": [
    "for line in open(f'{artifact_dir}/train.csv', 'r'):\n",
    "    print(line)\n",
    "    break\n",
    "    \n",
    "for line in open(f'{artifact_dir}/test.csv', 'r'):\n",
    "    print(line)\n",
    "    break    "
   ]
  }
 ],
 "metadata": {
  "kernelspec": {
   "display_name": "Python 3",
   "language": "python",
   "name": "python3"
  },
  "language_info": {
   "codemirror_mode": {
    "name": "ipython",
    "version": 3
   },
   "file_extension": ".py",
   "mimetype": "text/x-python",
   "name": "python",
   "nbconvert_exporter": "python",
   "pygments_lexer": "ipython3",
   "version": "3.7.6"
  }
 },
 "nbformat": 4,
 "nbformat_minor": 4
}
