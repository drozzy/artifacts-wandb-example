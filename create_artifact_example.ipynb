{
 "cells": [
  {
   "cell_type": "markdown",
   "metadata": {},
   "source": [
    "## Create Artifact"
   ]
  },
  {
   "cell_type": "code",
   "execution_count": 1,
   "metadata": {},
   "outputs": [],
   "source": [
    "PROJECT_NAME = 'proj_sample'"
   ]
  },
  {
   "cell_type": "code",
   "execution_count": 2,
   "metadata": {},
   "outputs": [
    {
     "name": "stdout",
     "output_type": "stream",
     "text": [
      "total 88K\r\n",
      "-rw-r--r-- 1 andriy andriy 28K Dec 11 02:17 test.csv\r\n",
      "-rw-r--r-- 1 andriy andriy 60K Dec 11 02:17 train.csv\r\n"
     ]
    }
   ],
   "source": [
    "!ls -lh data"
   ]
  },
  {
   "cell_type": "code",
   "execution_count": 3,
   "metadata": {},
   "outputs": [
    {
     "data": {
      "text/html": [
       "\n",
       "                Logging results to <a href=\"https://wandb.com\" target=\"_blank\">Weights & Biases</a> <a href=\"https://docs.wandb.com/integrations/jupyter.html\" target=\"_blank\">(Documentation)</a>.<br/>\n",
       "                Project page: <a href=\"https://app.wandb.ai/drozzy/proj8\" target=\"_blank\">https://app.wandb.ai/drozzy/proj8</a><br/>\n",
       "                Run page: <a href=\"https://app.wandb.ai/drozzy/proj8/runs/153bi9og\" target=\"_blank\">https://app.wandb.ai/drozzy/proj8/runs/153bi9og</a><br/>\n",
       "            "
      ],
      "text/plain": [
       "<IPython.core.display.HTML object>"
      ]
     },
     "metadata": {},
     "output_type": "display_data"
    },
    {
     "name": "stderr",
     "output_type": "stream",
     "text": [
      "\u001b[34m\u001b[1mwandb\u001b[0m: Adding directory to artifact (./data)... Done. 0.1s\n",
      "Failed to query for notebook name, you can set it manually with the WANDB_NOTEBOOK_NAME environment variable\n"
     ]
    }
   ],
   "source": [
    "import wandb\n",
    "\n",
    "run = wandb.init(project=PROJECT_NAME, job_type='preprocessing', entity='drozzy')\n",
    "artifact = wandb.Artifact(name='titanic', type='dataset')\n",
    "artifact.add_dir('data')\n",
    "\n",
    "run.log_artifact(artifact)"
   ]
  },
  {
   "cell_type": "markdown",
   "metadata": {},
   "source": [
    "## Use Artifact (reload jupyter)"
   ]
  },
  {
   "cell_type": "code",
   "execution_count": 4,
   "metadata": {},
   "outputs": [
    {
     "data": {
      "text/html": [
       "\n",
       "                Logging results to <a href=\"https://wandb.com\" target=\"_blank\">Weights & Biases</a> <a href=\"https://docs.wandb.com/integrations/jupyter.html\" target=\"_blank\">(Documentation)</a>.<br/>\n",
       "                Project page: <a href=\"https://app.wandb.ai/drozzy/proj8\" target=\"_blank\">https://app.wandb.ai/drozzy/proj8</a><br/>\n",
       "                Run page: <a href=\"https://app.wandb.ai/drozzy/proj8/runs/hyniyb73\" target=\"_blank\">https://app.wandb.ai/drozzy/proj8/runs/hyniyb73</a><br/>\n",
       "            "
      ],
      "text/plain": [
       "<IPython.core.display.HTML object>"
      ]
     },
     "metadata": {},
     "output_type": "display_data"
    },
    {
     "name": "stderr",
     "output_type": "stream",
     "text": [
      "Failed to query for notebook name, you can set it manually with the WANDB_NOTEBOOK_NAME environment variable\n"
     ]
    },
    {
     "name": "stdout",
     "output_type": "stream",
     "text": [
      "Downloaded to: /home/andriy/.cache/wandb/artifacts/final/dataset/a97ab82cbbc41a56cd73b7f022b20c3f/artifact\n"
     ]
    }
   ],
   "source": [
    "import wandb\n",
    "run = wandb.init(project=PROJECT_NAME, job_type='training', entity='drozzy')\n",
    "\n",
    "artifact = run.use_artifact(artifact='titanic:latest', type='dataset')\n",
    "\n",
    "\n",
    "artifact_dir = artifact.download()\n",
    "print(f'Downloaded to: {artifact_dir}')\n",
    "\n"
   ]
  },
  {
   "cell_type": "code",
   "execution_count": 5,
   "metadata": {},
   "outputs": [
    {
     "name": "stdout",
     "output_type": "stream",
     "text": [
      "test.csv  train.csv\r\n"
     ]
    }
   ],
   "source": [
    "!ls {artifact_dir}"
   ]
  },
  {
   "cell_type": "code",
   "execution_count": 6,
   "metadata": {},
   "outputs": [
    {
     "name": "stdout",
     "output_type": "stream",
     "text": [
      "PassengerId,Survived,Pclass,Name,Sex,Age,SibSp,Parch,Ticket,Fare,Cabin,Embarked\n",
      "\n",
      "PassengerId,Pclass,Name,Sex,Age,SibSp,Parch,Ticket,Fare,Cabin,Embarked\n",
      "\n"
     ]
    }
   ],
   "source": [
    "for line in open(f'{artifact_dir}/train.csv', 'r'):\n",
    "    print(line)\n",
    "    break\n",
    "    \n",
    "for line in open(f'{artifact_dir}/test.csv', 'r'):\n",
    "    print(line)\n",
    "    break    "
   ]
  },
  {
   "cell_type": "markdown",
   "metadata": {},
   "source": [
    "### Sample logging using the artifact"
   ]
  },
  {
   "cell_type": "code",
   "execution_count": 7,
   "metadata": {},
   "outputs": [
    {
     "name": "stderr",
     "output_type": "stream",
     "text": [
      "Failed to query for notebook name, you can set it manually with the WANDB_NOTEBOOK_NAME environment variable\n"
     ]
    }
   ],
   "source": [
    "wandb.config.dropout = 0.2\n",
    "wandb.config.hidden_layer_size = 128\n",
    "\n",
    "\n",
    "for epoch in range(10):\n",
    "    loss = 0 # change as appropriate :)\n",
    "    wandb.log({'epoch': epoch, 'loss': loss})"
   ]
  },
  {
   "cell_type": "code",
   "execution_count": null,
   "metadata": {},
   "outputs": [],
   "source": []
  }
 ],
 "metadata": {
  "kernelspec": {
   "display_name": "Python 3",
   "language": "python",
   "name": "python3"
  },
  "language_info": {
   "codemirror_mode": {
    "name": "ipython",
    "version": 3
   },
   "file_extension": ".py",
   "mimetype": "text/x-python",
   "name": "python",
   "nbconvert_exporter": "python",
   "pygments_lexer": "ipython3",
   "version": "3.7.6"
  }
 },
 "nbformat": 4,
 "nbformat_minor": 4
}
