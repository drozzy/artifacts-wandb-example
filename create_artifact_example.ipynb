{
 "cells": [
  {
   "cell_type": "markdown",
   "metadata": {},
   "source": [
    "## Create Artifact"
   ]
  },
  {
   "cell_type": "code",
   "execution_count": null,
   "metadata": {},
   "outputs": [],
   "source": [
    "!ls -lh data"
   ]
  },
  {
   "cell_type": "code",
   "execution_count": null,
   "metadata": {},
   "outputs": [],
   "source": [
    "import wandb\n",
    "\n",
    "run = wandb.init(project='test_proj', job_type='data', entity='drozzy')\n",
    "artifact = wandb.Artifact(type='dataset')\n",
    "artifact.add_dir('data')\n",
    "artifact.add_file('data')\n",
    "\n",
    "run.log_artifact(artifact, 'project_data')"
   ]
  },
  {
   "cell_type": "markdown",
   "metadata": {},
   "source": [
    "## Use Artifact"
   ]
  },
  {
   "cell_type": "code",
   "execution_count": null,
   "metadata": {},
   "outputs": [],
   "source": [
    "import wandb\n",
    "run = wandb.init(project='test_proj', job_type='data', entity='drozzy')\n",
    "\n",
    "artifact = run.use_artifact(name=f'project_data:latest', type='dataset')\n",
    "\n",
    "\n",
    "artifact_dir = artifact.download()\n",
    "print(f'Downloaded to: {artifact_dir}')\n",
    "\n",
    "# for line in open(f'{artifact_dir}/{DATASET_FILE}', 'r'):\n",
    "#     print(line)\n",
    "#     break"
   ]
  },
  {
   "cell_type": "code",
   "execution_count": null,
   "metadata": {},
   "outputs": [],
   "source": [
    "!ls {artifact_dir}"
   ]
  }
 ],
 "metadata": {
  "kernelspec": {
   "display_name": "Python 3",
   "language": "python",
   "name": "python3"
  },
  "language_info": {
   "codemirror_mode": {
    "name": "ipython",
    "version": 3
   },
   "file_extension": ".py",
   "mimetype": "text/x-python",
   "name": "python",
   "nbconvert_exporter": "python",
   "pygments_lexer": "ipython3",
   "version": "3.7.6"
  }
 },
 "nbformat": 4,
 "nbformat_minor": 4
}
